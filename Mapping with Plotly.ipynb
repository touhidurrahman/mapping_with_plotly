{
 "cells": [
  {
   "cell_type": "markdown",
   "id": "b3ffaeda",
   "metadata": {},
   "source": [
    "# Geospatial Plotting with Plotly"
   ]
  },
  {
   "cell_type": "markdown",
   "id": "92f0dbb5",
   "metadata": {},
   "source": [
    "Plotly is a Python library for creating interactive and dynamic visualizations in various formats, such as graphs, charts, and maps. It offers a high-level API for generating rich and customizable visualizations with ease.\n",
    "\n",
    "The nice thing that this provides is the ability to show a features attribute data when you hover over it, just like you could with charting tabular data. And of course you can pan and zoom in and out as well.\n",
    "\n",
    "Very aesthetic Choropleth Maps can be prepared with Plotly. However, I prefer to GeoPandas and Folium for this purpose. It gives you more control over the map elements."
   ]
  },
  {
   "cell_type": "markdown",
   "id": "bb220263",
   "metadata": {},
   "source": [
    "Importing required libraries:"
   ]
  },
  {
   "cell_type": "code",
   "execution_count": null,
   "id": "9fea5c45",
   "metadata": {},
   "outputs": [],
   "source": [
    "%matplotlib inline\n",
    "import psycopg2\n",
    "import psycopg2.extras\n",
    "import plotly\n",
    "import plotly.graph_objects as go\n",
    "import plotly.express as px\n",
    "import pandas as pd\n",
    "import geopandas as gpd"
   ]
  },
  {
   "cell_type": "markdown",
   "id": "c2ad0440",
   "metadata": {},
   "source": [
    "Establishing connection with my PostgreSQL server. Keeping my credentials secret for security reasons. I always prefer to use the data stored in my server. You can easily retrieve and manipulate data with SQL."
   ]
  },
  {
   "cell_type": "code",
   "execution_count": null,
   "id": "6efba2fb",
   "metadata": {},
   "outputs": [],
   "source": [
    "df = pd.read_csv(r\"D:\\Dropbox\\Touhid Personal\\credentials\\postgresql_credentials.csv\")\n",
    "\n",
    "conn = psycopg2.connect (\n",
    "    host = df.loc[0,'host'],\n",
    "    port = df.loc[0,'port'],\n",
    "    dbname = df.loc[0,'database'],\n",
    "    user = df.loc[0,'username'],\n",
    "    password = df.loc[0,'password']\n",
    ")\n",
    "cur = conn.cursor(cursor_factory=psycopg2.extras.DictCursor)"
   ]
  },
  {
   "cell_type": "markdown",
   "id": "5526e4ab",
   "metadata": {},
   "source": [
    "## Example from Plotly"
   ]
  },
  {
   "cell_type": "markdown",
   "id": "16d051b7",
   "metadata": {},
   "source": [
    "This code has been taken from the official website of Plotly. It creates a Choropleth map showing the unemployment rate in USA. I will try to create similar map for my study area."
   ]
  },
  {
   "cell_type": "code",
   "execution_count": null,
   "id": "85aec875",
   "metadata": {},
   "outputs": [],
   "source": [
    "from urllib.request import urlopen\n",
    "import json\n",
    "with urlopen('https://raw.githubusercontent.com/plotly/datasets/master/geojson-counties-fips.json') as response:\n",
    "    counties = json.load(response)\n",
    "\n",
    "import pandas as pd\n",
    "df = pd.read_csv(\"https://raw.githubusercontent.com/plotly/datasets/master/fips-unemp-16.csv\",\n",
    "                   dtype={\"fips\": str})\n",
    "\n",
    "import plotly.express as px\n",
    "\n",
    "fig = px.choropleth_mapbox(df, geojson=counties, locations='fips', color='unemp',\n",
    "                           color_continuous_scale=\"Viridis\",\n",
    "                           range_color=(0, 12),\n",
    "                           mapbox_style=\"carto-positron\",\n",
    "                           zoom=3, center = {\"lat\": 37.0902, \"lon\": -95.7129},\n",
    "                           opacity=0.5,\n",
    "                           labels={'unemp':'unemployment rate'}\n",
    "                          )\n",
    "fig.update_layout(margin={\"r\":0,\"t\":0,\"l\":0,\"b\":0})\n",
    "fig.show()"
   ]
  },
  {
   "cell_type": "markdown",
   "id": "a2db6350",
   "metadata": {},
   "source": [
    "## Choropleth Map 1"
   ]
  },
  {
   "cell_type": "markdown",
   "id": "e23aace8",
   "metadata": {},
   "source": [
    "In the choropleth map, I have tried to display the variation in average biled amount for the DMAs of Dhaka WASA. Please note that this display is not based on actual data.\n",
    "\n",
    "Here I have used two different tables from server. Table 1 (titled \"all_dma\") contains the geometry data, and Table 2 (titled \"hcl\") contains the billing data. Therefore, I had to join these two tables and keep the data in a Pandas Dataframe for mapping. "
   ]
  },
  {
   "cell_type": "code",
   "execution_count": null,
   "id": "5e7ff2a3",
   "metadata": {},
   "outputs": [],
   "source": [
    "#Table 1\n",
    "#using GeoPandas read_postgis method\n",
    "all_dma_data = gpd.read_postgis(\"SELECT * FROM all_dma\", conn, geom_col='geom')\n",
    "\n",
    "#Table 2\n",
    "cur = conn.cursor()\n",
    "cur.execute(\"\"\"\n",
    "    SELECT hcl_dma_id, AVG(billed_amt) AS avg_billed_amt\n",
    "    FROM hcl\n",
    "    GROUP BY hcl_dma_id;\n",
    "\"\"\")\n",
    "hcl_data = cur.fetchall()\n",
    "\n",
    "# Pandas DataFrame\n",
    "hcl_df = pd.DataFrame(hcl_data, columns=['hcl_dma_id', 'avg_billed_amt'])\n",
    "\n",
    "# Converting 'avg_billed_amt' column to numeric and handling missing values (if any)\n",
    "hcl_df['avg_billed_amt'] = pd.to_numeric(hcl_df['avg_billed_amt'], errors='coerce')\n",
    "hcl_df.dropna(subset=['avg_billed_amt'], inplace=True)\n",
    "\n",
    "# Merging Table1 and Table2 data\n",
    "merged_data = all_dma_data.merge(hcl_df, left_on='dma_id', right_on='hcl_dma_id', how='left')\n",
    "\n",
    "#Mapping\n",
    "fig = px.choropleth_mapbox(merged_data, geojson=merged_data['geom'], locations=merged_data.index,\n",
    "                    color='avg_billed_amt', color_continuous_scale='deep',\n",
    "                           mapbox_style=\"carto-positron\", zoom=10.5, center = {\"lat\": 23.8103, \"lon\": 90.4125},\n",
    "                           opacity = 0.8,\n",
    "                    labels={'avg_billed_amt': 'Average Billed Amount'},\n",
    "                    title='Choropleth Map: Average Billed Amount by DMA')\n",
    "\n",
    "\n",
    "fig.update_layout(margin={\"r\":0,\"t\":0,\"l\":0,\"b\":0})\n",
    "\n",
    "fig.show()"
   ]
  },
  {
   "cell_type": "markdown",
   "id": "44cbf86e",
   "metadata": {},
   "source": [
    "## Choropleth Map 2"
   ]
  },
  {
   "cell_type": "markdown",
   "id": "41800f31",
   "metadata": {},
   "source": [
    "The approach is same for this map. Using the same two tables. This time showing the average pipe length for consumer service connection. "
   ]
  },
  {
   "cell_type": "code",
   "execution_count": null,
   "id": "cc935f9a",
   "metadata": {},
   "outputs": [],
   "source": [
    "all_dma_data = gpd.read_postgis(\"SELECT * FROM all_dma\", conn, geom_col='geom')\n",
    "\n",
    "cur = conn.cursor()\n",
    "cur.execute(\"\"\"\n",
    "    SELECT hcl_dma_id, AVG(hcl_length) AS avg_hcl_length\n",
    "    FROM hcl\n",
    "    GROUP BY hcl_dma_id;\n",
    "\"\"\")\n",
    "hcl_data = cur.fetchall()\n",
    "\n",
    "hcl_df = pd.DataFrame(hcl_data, columns=['hcl_dma_id', 'avg_hcl_length'])\n",
    "\n",
    "hcl_df['avg_hcl_length'] = pd.to_numeric(hcl_df['avg_hcl_length'], errors='coerce')\n",
    "hcl_df.dropna(subset=['avg_hcl_length'], inplace=True)\n",
    "\n",
    "merged_data = all_dma_data.merge(hcl_df, left_on='dma_id', right_on='hcl_dma_id', how='left')\n",
    "\n",
    "fig = px.choropleth_mapbox(merged_data, geojson=merged_data['geom'], locations=merged_data.index,\n",
    "                    color='avg_hcl_length', color_continuous_scale='deep',\n",
    "                           mapbox_style=\"carto-positron\", zoom=10.5, center = {\"lat\": 23.8103, \"lon\": 90.4125},\n",
    "                           opacity = 0.8,\n",
    "                    labels={'avg_hcl_length': 'Average SC Length(m)'},\n",
    "                    title='Choropleth Map: Average Billed Amount by DMA')\n",
    "\n",
    "\n",
    "fig.update_layout(margin={\"r\":0,\"t\":0,\"l\":0,\"b\":0})\n",
    "\n",
    "fig.show()"
   ]
  },
  {
   "cell_type": "markdown",
   "id": "fde0f91a",
   "metadata": {},
   "source": [
    "Prepared By: Md. Touhidur Rahman, Email: touhidur002@gmail.com"
   ]
  }
 ],
 "metadata": {
  "kernelspec": {
   "display_name": "Python 3 (ipykernel)",
   "language": "python",
   "name": "python3"
  },
  "language_info": {
   "codemirror_mode": {
    "name": "ipython",
    "version": 3
   },
   "file_extension": ".py",
   "mimetype": "text/x-python",
   "name": "python",
   "nbconvert_exporter": "python",
   "pygments_lexer": "ipython3",
   "version": "3.11.4"
  }
 },
 "nbformat": 4,
 "nbformat_minor": 5
}
